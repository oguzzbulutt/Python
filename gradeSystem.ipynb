{
 "cells": [
  {
   "cell_type": "code",
   "execution_count": 4,
   "metadata": {},
   "outputs": [],
   "source": [
    "def getUserInput():\n",
    "    D={}\n",
    "    while True:\n",
    "        studentID=input(\"Enter student ID: \")\n",
    "        marksList=input(\"Enter the marks by comma seperated values: \")\n",
    "        moreStudents=input('Enter \"no\" to quit insertion: ')\n",
    "        if studentID in D:\n",
    "            print(studentID,\"it is already inserted!!!\")\n",
    "        else:\n",
    "            D[studentID]=marksList.split(\",\")\n",
    "        if moreStudents.lower()==\"no\":\n",
    "            return D"
   ]
  },
  {
   "cell_type": "code",
   "execution_count": 5,
   "metadata": {},
   "outputs": [],
   "source": [
    "studentData=getUserInput()"
   ]
  },
  {
   "cell_type": "code",
   "execution_count": 20,
   "metadata": {},
   "outputs": [],
   "source": [
    "def getAvgMarks(D):\n",
    "    avgMarkDict={}\n",
    "    for x in D:\n",
    "        L=D[x]\n",
    "        s=0\n",
    "        for marks in L:\n",
    "            s+=int(marks)\n",
    "        avgMarkDict[x]=s/len(L)\n",
    "    return avgMarkDict"
   ]
  },
  {
   "cell_type": "code",
   "execution_count": 21,
   "metadata": {},
   "outputs": [
    {
     "data": {
      "text/plain": [
       "{'12': ['40', '50', '60'], '13': ['54', '23', '97']}"
      ]
     },
     "execution_count": 21,
     "metadata": {},
     "output_type": "execute_result"
    }
   ],
   "source": [
    "studentData"
   ]
  },
  {
   "cell_type": "code",
   "execution_count": 22,
   "metadata": {},
   "outputs": [],
   "source": [
    "averageM=getAvgMarks(studentData)"
   ]
  },
  {
   "cell_type": "code",
   "execution_count": 24,
   "metadata": {},
   "outputs": [
    {
     "name": "stdout",
     "output_type": "stream",
     "text": [
      "{'12': 50.0, '13': 58.0}\n"
     ]
    }
   ],
   "source": [
    "print(averageM)"
   ]
  }
 ],
 "metadata": {
  "kernelspec": {
   "display_name": "Python 3",
   "language": "python",
   "name": "python3"
  },
  "language_info": {
   "codemirror_mode": {
    "name": "ipython",
    "version": 3
   },
   "file_extension": ".py",
   "mimetype": "text/x-python",
   "name": "python",
   "nbconvert_exporter": "python",
   "pygments_lexer": "ipython3",
   "version": "3.11.4"
  },
  "orig_nbformat": 4
 },
 "nbformat": 4,
 "nbformat_minor": 2
}
