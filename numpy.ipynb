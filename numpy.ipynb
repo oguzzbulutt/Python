{
 "cells": [
  {
   "cell_type": "code",
   "execution_count": 2,
   "metadata": {},
   "outputs": [],
   "source": [
    "import numpy as np"
   ]
  },
  {
   "cell_type": "code",
   "execution_count": 3,
   "metadata": {},
   "outputs": [],
   "source": [
    "a= np.array([1,2,3,5,7])"
   ]
  },
  {
   "cell_type": "code",
   "execution_count": 4,
   "metadata": {},
   "outputs": [],
   "source": [
    "b= np.array((2,3,5))"
   ]
  },
  {
   "cell_type": "code",
   "execution_count": 5,
   "metadata": {},
   "outputs": [
    {
     "name": "stdout",
     "output_type": "stream",
     "text": [
      "[1 2 3 5 7]\n",
      "[2 3 5]\n"
     ]
    }
   ],
   "source": [
    "print(a)\n",
    "print(b)"
   ]
  },
  {
   "cell_type": "code",
   "execution_count": 6,
   "metadata": {},
   "outputs": [
    {
     "data": {
      "text/plain": [
       "numpy.ndarray"
      ]
     },
     "execution_count": 6,
     "metadata": {},
     "output_type": "execute_result"
    }
   ],
   "source": [
    "type(a)"
   ]
  },
  {
   "cell_type": "code",
   "execution_count": 7,
   "metadata": {},
   "outputs": [
    {
     "data": {
      "text/plain": [
       "numpy.ndarray"
      ]
     },
     "execution_count": 7,
     "metadata": {},
     "output_type": "execute_result"
    }
   ],
   "source": [
    "type(b)"
   ]
  },
  {
   "cell_type": "code",
   "execution_count": 8,
   "metadata": {},
   "outputs": [
    {
     "data": {
      "text/plain": [
       "dtype('int32')"
      ]
     },
     "execution_count": 8,
     "metadata": {},
     "output_type": "execute_result"
    }
   ],
   "source": [
    "a.dtype"
   ]
  },
  {
   "cell_type": "code",
   "execution_count": 9,
   "metadata": {},
   "outputs": [
    {
     "data": {
      "text/plain": [
       "dtype('int32')"
      ]
     },
     "execution_count": 9,
     "metadata": {},
     "output_type": "execute_result"
    }
   ],
   "source": [
    "b.dtype"
   ]
  },
  {
   "cell_type": "code",
   "execution_count": 10,
   "metadata": {},
   "outputs": [],
   "source": [
    "a=np.array([[1,2,3],[4,5,6]])\n",
    "#2D array"
   ]
  },
  {
   "cell_type": "code",
   "execution_count": 11,
   "metadata": {},
   "outputs": [
    {
     "data": {
      "text/plain": [
       "2"
      ]
     },
     "execution_count": 11,
     "metadata": {},
     "output_type": "execute_result"
    }
   ],
   "source": [
    "a.ndim"
   ]
  },
  {
   "cell_type": "code",
   "execution_count": 12,
   "metadata": {},
   "outputs": [
    {
     "data": {
      "text/plain": [
       "numpy.ndarray"
      ]
     },
     "execution_count": 12,
     "metadata": {},
     "output_type": "execute_result"
    }
   ],
   "source": [
    "type(a)"
   ]
  },
  {
   "cell_type": "code",
   "execution_count": 13,
   "metadata": {},
   "outputs": [
    {
     "data": {
      "text/plain": [
       "array([1, 2, 3])"
      ]
     },
     "execution_count": 13,
     "metadata": {},
     "output_type": "execute_result"
    }
   ],
   "source": [
    "a[0]"
   ]
  },
  {
   "cell_type": "code",
   "execution_count": 14,
   "metadata": {},
   "outputs": [
    {
     "data": {
      "text/plain": [
       "array([4, 5, 6])"
      ]
     },
     "execution_count": 14,
     "metadata": {},
     "output_type": "execute_result"
    }
   ],
   "source": [
    "a[1]"
   ]
  },
  {
   "cell_type": "code",
   "execution_count": 15,
   "metadata": {},
   "outputs": [
    {
     "ename": "ValueError",
     "evalue": "setting an array element with a sequence. The requested array has an inhomogeneous shape after 1 dimensions. The detected shape was (2,) + inhomogeneous part.",
     "output_type": "error",
     "traceback": [
      "\u001b[1;31m---------------------------------------------------------------------------\u001b[0m",
      "\u001b[1;31mValueError\u001b[0m                                Traceback (most recent call last)",
      "Cell \u001b[1;32mIn[15], line 1\u001b[0m\n\u001b[1;32m----> 1\u001b[0m B\u001b[39m=\u001b[39mnp\u001b[39m.\u001b[39;49marray([[\u001b[39m1\u001b[39;49m,\u001b[39m2\u001b[39;49m,\u001b[39m3\u001b[39;49m],[\u001b[39m4\u001b[39;49m,\u001b[39m5\u001b[39;49m,\u001b[39m6\u001b[39;49m,\u001b[39m7\u001b[39;49m]])\n\u001b[0;32m      2\u001b[0m \u001b[39m#It shpould include equal amount of elements in each list\u001b[39;00m\n",
      "\u001b[1;31mValueError\u001b[0m: setting an array element with a sequence. The requested array has an inhomogeneous shape after 1 dimensions. The detected shape was (2,) + inhomogeneous part."
     ]
    }
   ],
   "source": [
    "B=np.array([[1,2,3],[4,5,6,7]])\n",
    "#It shpould include equal amount of elements in each list"
   ]
  },
  {
   "cell_type": "code",
   "execution_count": null,
   "metadata": {},
   "outputs": [],
   "source": [
    "C=np.array([[[12,13,14],[15,16,17]],[[18,19,20],[21,22,23]],[[24,25,26],[27,28,29]]])\n",
    "#3D array"
   ]
  },
  {
   "cell_type": "code",
   "execution_count": null,
   "metadata": {},
   "outputs": [
    {
     "data": {
      "text/plain": [
       "3"
      ]
     },
     "execution_count": 23,
     "metadata": {},
     "output_type": "execute_result"
    }
   ],
   "source": [
    "C.ndim"
   ]
  },
  {
   "cell_type": "code",
   "execution_count": null,
   "metadata": {},
   "outputs": [
    {
     "data": {
      "text/plain": [
       "16"
      ]
     },
     "execution_count": 25,
     "metadata": {},
     "output_type": "execute_result"
    }
   ],
   "source": [
    "C[0,1,1]"
   ]
  },
  {
   "cell_type": "code",
   "execution_count": null,
   "metadata": {},
   "outputs": [
    {
     "data": {
      "text/plain": [
       "(3, 2, 3)"
      ]
     },
     "execution_count": 28,
     "metadata": {},
     "output_type": "execute_result"
    }
   ],
   "source": [
    "C.shape"
   ]
  },
  {
   "cell_type": "code",
   "execution_count": null,
   "metadata": {},
   "outputs": [],
   "source": [
    "count100=np.arange(1,101)"
   ]
  },
  {
   "cell_type": "code",
   "execution_count": null,
   "metadata": {},
   "outputs": [
    {
     "name": "stdout",
     "output_type": "stream",
     "text": [
      "[  1   2   3   4   5   6   7   8   9  10  11  12  13  14  15  16  17  18\n",
      "  19  20  21  22  23  24  25  26  27  28  29  30  31  32  33  34  35  36\n",
      "  37  38  39  40  41  42  43  44  45  46  47  48  49  50  51  52  53  54\n",
      "  55  56  57  58  59  60  61  62  63  64  65  66  67  68  69  70  71  72\n",
      "  73  74  75  76  77  78  79  80  81  82  83  84  85  86  87  88  89  90\n",
      "  91  92  93  94  95  96  97  98  99 100]\n"
     ]
    }
   ],
   "source": [
    "print(count100)"
   ]
  },
  {
   "cell_type": "code",
   "execution_count": null,
   "metadata": {},
   "outputs": [
    {
     "name": "stdout",
     "output_type": "stream",
     "text": [
      "[1 3 2 6 7 0 5 8 9 4]\n"
     ]
    }
   ],
   "source": [
    "random=np.random.permutation(np.arange(10))\n",
    "print(random)"
   ]
  },
  {
   "cell_type": "code",
   "execution_count": null,
   "metadata": {},
   "outputs": [
    {
     "name": "stdout",
     "output_type": "stream",
     "text": [
      "8\n"
     ]
    }
   ],
   "source": [
    "num=np.random.randint(5,9)\n",
    "print(num)"
   ]
  },
  {
   "cell_type": "code",
   "execution_count": null,
   "metadata": {},
   "outputs": [],
   "source": [
    "dataSet=np.random.rand(10)"
   ]
  },
  {
   "cell_type": "code",
   "execution_count": null,
   "metadata": {},
   "outputs": [
    {
     "data": {
      "text/plain": [
       "array([0.73792871, 0.13368423, 0.36632754, 0.72872061, 0.60758475,\n",
       "       0.57011581, 0.71854494, 0.33188903, 0.39693189, 0.62933942])"
      ]
     },
     "execution_count": 67,
     "metadata": {},
     "output_type": "execute_result"
    }
   ],
   "source": [
    "dataSet"
   ]
  },
  {
   "cell_type": "code",
   "execution_count": null,
   "metadata": {},
   "outputs": [],
   "source": [
    "import matplotlib.pyplot as plt"
   ]
  },
  {
   "cell_type": "code",
   "execution_count": null,
   "metadata": {},
   "outputs": [
    {
     "data": {
      "text/plain": [
       "(array([1., 0., 0., 2., 1., 0., 0., 2., 1., 3.]),\n",
       " array([0.13368423, 0.19410868, 0.25453313, 0.31495758, 0.37538202,\n",
       "        0.43580647, 0.49623092, 0.55665537, 0.61707982, 0.67750427,\n",
       "        0.73792871]),\n",
       " <BarContainer object of 10 artists>)"
      ]
     },
     "execution_count": 69,
     "metadata": {},
     "output_type": "execute_result"
    },
    {
     "data": {
      "image/png": "[encoded data removed]",
      "text/plain": [
       "<Figure size 640x480 with 1 Axes>"
      ]
     },
     "metadata": {},
     "output_type": "display_data"
    }
   ],
   "source": [
    "plt.hist(dataSet)"
   ]
  },
  {
   "cell_type": "code",
   "execution_count": null,
   "metadata": {},
   "outputs": [
    {
     "data": {
      "text/plain": [
       "(array([1., 0., 0., 0., 0., 0., 0., 0., 0., 0., 0., 0., 0., 0., 0., 0., 0.,\n",
       "        0., 0., 0., 0., 0., 0., 0., 0., 0., 0., 0., 0., 0., 0., 0., 1., 0.,\n",
       "        0., 0., 0., 0., 1., 0., 0., 0., 0., 1., 0., 0., 0., 0., 0., 0., 0.,\n",
       "        0., 0., 0., 0., 0., 0., 0., 0., 0., 0., 0., 0., 0., 0., 0., 0., 0.,\n",
       "        0., 0., 0., 0., 1., 0., 0., 0., 0., 0., 1., 0., 0., 0., 1., 0., 0.,\n",
       "        0., 0., 0., 0., 0., 0., 0., 0., 0., 0., 0., 1., 0., 1., 1.]),\n",
       " array([0.13368423, 0.13972668, 0.14576912, 0.15181157, 0.15785401,\n",
       "        0.16389645, 0.1699389 , 0.17598134, 0.18202379, 0.18806623,\n",
       "        0.19410868, 0.20015112, 0.20619357, 0.21223601, 0.21827846,\n",
       "        0.2243209 , 0.23036335, 0.23640579, 0.24244824, 0.24849068,\n",
       "        0.25453313, 0.26057557, 0.26661802, 0.27266046, 0.27870291,\n",
       "        0.28474535, 0.2907878 , 0.29683024, 0.30287269, 0.30891513,\n",
       "        0.31495758, 0.32100002, 0.32704247, 0.33308491, 0.33912735,\n",
       "        0.3451698 , 0.35121224, 0.35725469, 0.36329713, 0.36933958,\n",
       "        0.37538202, 0.38142447, 0.38746691, 0.39350936, 0.3995518 ,\n",
       "        0.40559425, 0.41163669, 0.41767914, 0.42372158, 0.42976403,\n",
       "        0.43580647, 0.44184892, 0.44789136, 0.45393381, 0.45997625,\n",
       "        0.4660187 , 0.47206114, 0.47810359, 0.48414603, 0.49018848,\n",
       "        0.49623092, 0.50227337, 0.50831581, 0.51435826, 0.5204007 ,\n",
       "        0.52644314, 0.53248559, 0.53852803, 0.54457048, 0.55061292,\n",
       "        0.55665537, 0.56269781, 0.56874026, 0.5747827 , 0.58082515,\n",
       "        0.58686759, 0.59291004, 0.59895248, 0.60499493, 0.61103737,\n",
       "        0.61707982, 0.62312226, 0.62916471, 0.63520715, 0.6412496 ,\n",
       "        0.64729204, 0.65333449, 0.65937693, 0.66541938, 0.67146182,\n",
       "        0.67750427, 0.68354671, 0.68958916, 0.6956316 , 0.70167405,\n",
       "        0.70771649, 0.71375893, 0.71980138, 0.72584382, 0.73188627,\n",
       "        0.73792871]),\n",
       " <BarContainer object of 100 artists>)"
      ]
     },
     "execution_count": 74,
     "metadata": {},
     "output_type": "execute_result"
    },
    {
     "data": {
      "image/png": "[encoded data removed]",
      "text/plain": [
       "<Figure size 640x480 with 1 Axes>"
      ]
     },
     "metadata": {},
     "output_type": "display_data"
    }
   ],
   "source": [
    "plt.hist(dataSet,bins=100)"
   ]
  },
  {
   "cell_type": "code",
   "execution_count": null,
   "metadata": {},
   "outputs": [
    {
     "data": {
      "text/plain": [
       "(array([1.000e+00, 0.000e+00, 0.000e+00, 0.000e+00, 0.000e+00, 0.000e+00,\n",
       "        0.000e+00, 0.000e+00, 0.000e+00, 0.000e+00, 0.000e+00, 0.000e+00,\n",
       "        0.000e+00, 0.000e+00, 0.000e+00, 0.000e+00, 0.000e+00, 0.000e+00,\n",
       "        0.000e+00, 0.000e+00, 0.000e+00, 0.000e+00, 0.000e+00, 0.000e+00,\n",
       "        0.000e+00, 0.000e+00, 0.000e+00, 0.000e+00, 0.000e+00, 0.000e+00,\n",
       "        0.000e+00, 0.000e+00, 0.000e+00, 0.000e+00, 0.000e+00, 0.000e+00,\n",
       "        0.000e+00, 0.000e+00, 0.000e+00, 0.000e+00, 0.000e+00, 0.000e+00,\n",
       "        0.000e+00, 0.000e+00, 1.000e+00, 0.000e+00, 0.000e+00, 0.000e+00,\n",
       "        2.000e+00, 0.000e+00, 1.000e+00, 0.000e+00, 0.000e+00, 0.000e+00,\n",
       "        0.000e+00, 0.000e+00, 0.000e+00, 0.000e+00, 0.000e+00, 0.000e+00,\n",
       "        1.000e+00, 0.000e+00, 0.000e+00, 0.000e+00, 0.000e+00, 0.000e+00,\n",
       "        0.000e+00, 0.000e+00, 0.000e+00, 0.000e+00, 0.000e+00, 0.000e+00,\n",
       "        1.000e+00, 0.000e+00, 0.000e+00, 2.000e+00, 0.000e+00, 2.000e+00,\n",
       "        0.000e+00, 0.000e+00, 0.000e+00, 0.000e+00, 0.000e+00, 0.000e+00,\n",
       "        2.000e+00, 1.000e+00, 1.000e+00, 0.000e+00, 1.000e+00, 1.000e+00,\n",
       "        0.000e+00, 1.000e+00, 1.000e+00, 0.000e+00, 0.000e+00, 0.000e+00,\n",
       "        1.000e+00, 0.000e+00, 0.000e+00, 1.000e+00, 0.000e+00, 1.000e+00,\n",
       "        2.000e+00, 1.000e+00, 2.000e+00, 1.000e+00, 1.000e+00, 1.000e+00,\n",
       "        1.000e+00, 1.000e+00, 0.000e+00, 1.000e+00, 1.000e+00, 1.000e+00,\n",
       "        3.000e+00, 1.000e+00, 1.000e+00, 1.000e+00, 1.000e+00, 1.000e+00,\n",
       "        5.000e+00, 2.000e+00, 1.000e+00, 3.000e+00, 4.000e+00, 2.000e+00,\n",
       "        1.000e+00, 1.000e+00, 3.000e+00, 1.000e+00, 2.000e+00, 2.000e+00,\n",
       "        4.000e+00, 3.000e+00, 2.000e+00, 3.000e+00, 2.000e+00, 1.000e+00,\n",
       "        1.000e+00, 2.000e+00, 5.000e+00, 5.000e+00, 5.000e+00, 5.000e+00,\n",
       "        2.000e+00, 6.000e+00, 7.000e+00, 2.000e+00, 0.000e+00, 3.000e+00,\n",
       "        8.000e+00, 6.000e+00, 7.000e+00, 1.100e+01, 2.000e+00, 6.000e+00,\n",
       "        9.000e+00, 8.000e+00, 7.000e+00, 9.000e+00, 8.000e+00, 6.000e+00,\n",
       "        8.000e+00, 9.000e+00, 1.000e+01, 1.400e+01, 1.500e+01, 1.400e+01,\n",
       "        4.000e+00, 8.000e+00, 7.000e+00, 7.000e+00, 7.000e+00, 9.000e+00,\n",
       "        1.300e+01, 1.200e+01, 1.400e+01, 9.000e+00, 9.000e+00, 1.200e+01,\n",
       "        1.700e+01, 1.200e+01, 1.300e+01, 1.500e+01, 1.400e+01, 2.000e+01,\n",
       "        1.200e+01, 1.200e+01, 1.900e+01, 1.800e+01, 1.700e+01, 1.800e+01,\n",
       "        2.900e+01, 1.200e+01, 2.800e+01, 3.400e+01, 2.800e+01, 2.100e+01,\n",
       "        2.600e+01, 2.500e+01, 3.400e+01, 2.500e+01, 2.800e+01, 3.500e+01,\n",
       "        3.400e+01, 3.800e+01, 2.800e+01, 2.600e+01, 4.300e+01, 3.500e+01,\n",
       "        2.900e+01, 3.100e+01, 4.500e+01, 4.200e+01, 3.900e+01, 3.900e+01,\n",
       "        4.600e+01, 4.400e+01, 4.500e+01, 3.800e+01, 4.300e+01, 4.700e+01,\n",
       "        5.400e+01, 4.400e+01, 6.200e+01, 6.000e+01, 5.100e+01, 6.500e+01,\n",
       "        7.000e+01, 5.200e+01, 6.000e+01, 7.800e+01, 5.800e+01, 7.200e+01,\n",
       "        6.100e+01, 6.100e+01, 6.600e+01, 5.700e+01, 5.700e+01, 7.800e+01,\n",
       "        6.700e+01, 8.700e+01, 8.500e+01, 8.700e+01, 8.500e+01, 9.600e+01,\n",
       "        9.500e+01, 1.130e+02, 1.110e+02, 8.800e+01, 9.900e+01, 1.180e+02,\n",
       "        1.070e+02, 1.290e+02, 1.220e+02, 1.210e+02, 1.400e+02, 1.240e+02,\n",
       "        1.240e+02, 1.440e+02, 1.470e+02, 1.340e+02, 1.520e+02, 1.320e+02,\n",
       "        1.450e+02, 1.540e+02, 1.500e+02, 1.830e+02, 1.690e+02, 1.640e+02,\n",
       "        1.970e+02, 1.950e+02, 1.890e+02, 1.760e+02, 1.810e+02, 1.800e+02,\n",
       "        1.830e+02, 2.020e+02, 2.160e+02, 1.990e+02, 2.240e+02, 2.140e+02,\n",
       "        2.240e+02, 2.460e+02, 2.450e+02, 2.370e+02, 2.310e+02, 2.540e+02,\n",
       "        2.730e+02, 2.600e+02, 2.790e+02, 3.000e+02, 2.770e+02, 2.980e+02,\n",
       "        2.930e+02, 2.870e+02, 3.230e+02, 3.260e+02, 3.330e+02, 3.280e+02,\n",
       "        3.550e+02, 3.800e+02, 3.330e+02, 3.690e+02, 4.230e+02, 3.950e+02,\n",
       "        3.700e+02, 4.210e+02, 3.960e+02, 4.690e+02, 4.040e+02, 4.570e+02,\n",
       "        4.500e+02, 4.690e+02, 4.380e+02, 4.930e+02, 5.100e+02, 4.870e+02,\n",
       "        5.080e+02, 4.700e+02, 5.390e+02, 5.240e+02, 5.450e+02, 5.600e+02,\n",
       "        5.380e+02, 5.400e+02, 5.850e+02, 5.880e+02, 6.410e+02, 6.180e+02,\n",
       "        6.370e+02, 6.140e+02, 6.370e+02, 6.580e+02, 7.180e+02, 6.930e+02,\n",
       "        7.060e+02, 7.590e+02, 7.520e+02, 7.310e+02, 7.650e+02, 7.420e+02,\n",
       "        7.920e+02, 7.740e+02, 8.270e+02, 7.800e+02, 8.000e+02, 8.360e+02,\n",
       "        8.500e+02, 9.130e+02, 8.750e+02, 9.030e+02, 9.320e+02, 9.300e+02,\n",
       "        8.950e+02, 9.450e+02, 9.540e+02, 1.007e+03, 9.590e+02, 1.034e+03,\n",
       "        1.067e+03, 1.063e+03, 1.044e+03, 1.104e+03, 1.070e+03, 1.151e+03,\n",
       "        1.144e+03, 1.207e+03, 1.181e+03, 1.236e+03, 1.211e+03, 1.232e+03,\n",
       "        1.219e+03, 1.288e+03, 1.262e+03, 1.306e+03, 1.354e+03, 1.382e+03,\n",
       "        1.462e+03, 1.424e+03, 1.505e+03, 1.406e+03, 1.422e+03, 1.487e+03,\n",
       "        1.453e+03, 1.454e+03, 1.565e+03, 1.502e+03, 1.544e+03, 1.582e+03,\n",
       "        1.607e+03, 1.647e+03, 1.642e+03, 1.599e+03, 1.684e+03, 1.807e+03,\n",
       "        1.698e+03, 1.759e+03, 1.804e+03, 1.729e+03, 1.755e+03, 1.772e+03,\n",
       "        1.820e+03, 1.896e+03, 1.776e+03, 1.894e+03, 1.909e+03, 1.950e+03,\n",
       "        2.004e+03, 2.054e+03, 2.040e+03, 2.062e+03, 2.094e+03, 2.120e+03,\n",
       "        2.120e+03, 2.183e+03, 2.203e+03, 2.169e+03, 2.194e+03, 2.322e+03,\n",
       "        2.229e+03, 2.334e+03, 2.382e+03, 2.389e+03, 2.338e+03, 2.404e+03,\n",
       "        2.410e+03, 2.412e+03, 2.421e+03, 2.476e+03, 2.491e+03, 2.576e+03,\n",
       "        2.494e+03, 2.481e+03, 2.502e+03, 2.619e+03, 2.595e+03, 2.705e+03,\n",
       "        2.640e+03, 2.655e+03, 2.675e+03, 2.766e+03, 2.752e+03, 2.782e+03,\n",
       "        2.785e+03, 2.803e+03, 2.826e+03, 2.869e+03, 2.918e+03, 2.904e+03,\n",
       "        2.877e+03, 2.950e+03, 2.954e+03, 2.969e+03, 2.982e+03, 2.928e+03,\n",
       "        3.042e+03, 3.029e+03, 3.065e+03, 3.028e+03, 3.099e+03, 3.098e+03,\n",
       "        3.080e+03, 3.141e+03, 3.175e+03, 3.237e+03, 3.231e+03, 3.292e+03,\n",
       "        3.396e+03, 3.270e+03, 3.264e+03, 3.272e+03, 3.439e+03, 3.258e+03,\n",
       "        3.334e+03, 3.364e+03, 3.267e+03, 3.421e+03, 3.392e+03, 3.468e+03,\n",
       "        3.438e+03, 3.464e+03, 3.507e+03, 3.541e+03, 3.549e+03, 3.557e+03,\n",
       "        3.565e+03, 3.704e+03, 3.622e+03, 3.591e+03, 3.646e+03, 3.728e+03,\n",
       "        3.569e+03, 3.744e+03, 3.531e+03, 3.712e+03, 3.667e+03, 3.664e+03,\n",
       "        3.722e+03, 3.728e+03, 3.821e+03, 3.729e+03, 3.728e+03, 3.699e+03,\n",
       "        3.769e+03, 3.744e+03, 3.674e+03, 3.657e+03, 3.825e+03, 3.731e+03,\n",
       "        3.854e+03, 3.642e+03, 3.848e+03, 3.791e+03, 3.793e+03, 3.812e+03,\n",
       "        3.838e+03, 3.800e+03, 3.829e+03, 3.778e+03, 3.764e+03, 3.837e+03,\n",
       "        3.882e+03, 3.970e+03, 3.815e+03, 3.827e+03, 3.830e+03, 3.765e+03,\n",
       "        3.894e+03, 3.877e+03, 3.831e+03, 3.762e+03, 3.821e+03, 3.808e+03,\n",
       "        3.883e+03, 3.891e+03, 3.895e+03, 3.795e+03, 3.895e+03, 3.730e+03,\n",
       "        3.828e+03, 3.867e+03, 3.762e+03, 3.687e+03, 3.749e+03, 3.883e+03,\n",
       "        3.838e+03, 3.761e+03, 3.738e+03, 3.791e+03, 3.707e+03, 3.647e+03,\n",
       "        3.637e+03, 3.772e+03, 3.770e+03, 3.829e+03, 3.758e+03, 3.707e+03,\n",
       "        3.689e+03, 3.639e+03, 3.739e+03, 3.650e+03, 3.617e+03, 3.657e+03,\n",
       "        3.610e+03, 3.562e+03, 3.536e+03, 3.509e+03, 3.510e+03, 3.458e+03,\n",
       "        3.493e+03, 3.546e+03, 3.567e+03, 3.371e+03, 3.472e+03, 3.374e+03,\n",
       "        3.519e+03, 3.434e+03, 3.388e+03, 3.385e+03, 3.270e+03, 3.313e+03,\n",
       "        3.301e+03, 3.298e+03, 3.242e+03, 3.351e+03, 3.312e+03, 3.292e+03,\n",
       "        3.253e+03, 3.277e+03, 3.125e+03, 3.259e+03, 3.153e+03, 3.060e+03,\n",
       "        3.072e+03, 3.051e+03, 3.073e+03, 3.097e+03, 3.019e+03, 2.975e+03,\n",
       "        3.064e+03, 3.045e+03, 2.990e+03, 2.941e+03, 2.886e+03, 2.899e+03,\n",
       "        2.830e+03, 2.802e+03, 2.691e+03, 2.802e+03, 2.846e+03, 2.849e+03,\n",
       "        2.766e+03, 2.750e+03, 2.656e+03, 2.677e+03, 2.706e+03, 2.738e+03,\n",
       "        2.617e+03, 2.574e+03, 2.597e+03, 2.520e+03, 2.519e+03, 2.480e+03,\n",
       "        2.531e+03, 2.504e+03, 2.523e+03, 2.441e+03, 2.457e+03, 2.348e+03,\n",
       "        2.394e+03, 2.332e+03, 2.438e+03, 2.296e+03, 2.305e+03, 2.217e+03,\n",
       "        2.161e+03, 2.116e+03, 2.191e+03, 2.222e+03, 2.135e+03, 2.184e+03,\n",
       "        2.163e+03, 2.059e+03, 2.005e+03, 2.044e+03, 2.044e+03, 1.992e+03,\n",
       "        1.996e+03, 1.954e+03, 1.999e+03, 1.791e+03, 1.929e+03, 1.771e+03,\n",
       "        1.765e+03, 1.791e+03, 1.780e+03, 1.798e+03, 1.726e+03, 1.688e+03,\n",
       "        1.689e+03, 1.664e+03, 1.683e+03, 1.732e+03, 1.567e+03, 1.560e+03,\n",
       "        1.574e+03, 1.581e+03, 1.551e+03, 1.539e+03, 1.560e+03, 1.393e+03,\n",
       "        1.460e+03, 1.406e+03, 1.393e+03, 1.353e+03, 1.365e+03, 1.346e+03,\n",
       "        1.375e+03, 1.434e+03, 1.334e+03, 1.295e+03, 1.294e+03, 1.242e+03,\n",
       "        1.245e+03, 1.233e+03, 1.122e+03, 1.185e+03, 1.111e+03, 1.205e+03,\n",
       "        1.122e+03, 1.123e+03, 1.080e+03, 1.046e+03, 1.074e+03, 1.097e+03,\n",
       "        1.027e+03, 1.062e+03, 1.003e+03, 9.650e+02, 9.740e+02, 9.580e+02,\n",
       "        9.360e+02, 9.020e+02, 9.310e+02, 9.000e+02, 8.670e+02, 8.940e+02,\n",
       "        8.450e+02, 9.180e+02, 8.540e+02, 7.740e+02, 7.990e+02, 7.550e+02,\n",
       "        7.280e+02, 7.670e+02, 7.170e+02, 7.100e+02, 7.060e+02, 7.450e+02,\n",
       "        6.680e+02, 6.770e+02, 6.300e+02, 6.290e+02, 6.370e+02, 6.410e+02,\n",
       "        6.350e+02, 5.990e+02, 6.110e+02, 5.710e+02, 5.890e+02, 5.800e+02,\n",
       "        5.830e+02, 5.390e+02, 5.670e+02, 5.170e+02, 5.220e+02, 4.790e+02,\n",
       "        4.840e+02, 5.020e+02, 5.400e+02, 4.870e+02, 4.690e+02, 4.180e+02,\n",
       "        4.310e+02, 4.070e+02, 4.590e+02, 3.640e+02, 4.150e+02, 3.860e+02,\n",
       "        4.010e+02, 3.880e+02, 3.660e+02, 3.620e+02, 3.620e+02, 3.640e+02,\n",
       "        3.570e+02, 3.260e+02, 3.190e+02, 3.270e+02, 2.920e+02, 3.260e+02,\n",
       "        2.840e+02, 3.140e+02, 3.040e+02, 2.740e+02, 2.660e+02, 2.710e+02,\n",
       "        2.610e+02, 2.540e+02, 2.780e+02, 2.490e+02, 2.200e+02, 2.230e+02,\n",
       "        2.080e+02, 1.890e+02, 2.130e+02, 1.970e+02, 1.910e+02, 2.090e+02,\n",
       "        2.110e+02, 1.960e+02, 1.730e+02, 1.680e+02, 1.770e+02, 1.610e+02,\n",
       "        1.610e+02, 1.430e+02, 1.570e+02, 1.760e+02, 1.490e+02, 1.620e+02,\n",
       "        1.380e+02, 1.730e+02, 1.450e+02, 1.620e+02, 1.540e+02, 1.270e+02,\n",
       "        1.200e+02, 1.200e+02, 1.340e+02, 1.300e+02, 1.230e+02, 1.310e+02,\n",
       "        1.200e+02, 1.170e+02, 1.140e+02, 9.700e+01, 9.500e+01, 8.400e+01,\n",
       "        9.500e+01, 7.900e+01, 7.900e+01, 9.200e+01, 7.600e+01, 7.500e+01,\n",
       "        9.400e+01, 7.900e+01, 7.300e+01, 6.700e+01, 6.700e+01, 8.900e+01,\n",
       "        6.900e+01, 6.300e+01, 7.500e+01, 5.700e+01, 7.300e+01, 6.000e+01,\n",
       "        5.100e+01, 6.200e+01, 6.200e+01, 3.800e+01, 6.400e+01, 5.300e+01,\n",
       "        4.500e+01, 4.200e+01, 4.700e+01, 4.600e+01, 4.500e+01, 4.600e+01,\n",
       "        3.200e+01, 3.900e+01, 4.200e+01, 3.900e+01, 3.800e+01, 2.400e+01,\n",
       "        3.200e+01, 3.500e+01, 2.400e+01, 3.300e+01, 3.300e+01, 2.900e+01,\n",
       "        3.900e+01, 3.000e+01, 1.800e+01, 2.900e+01, 2.800e+01, 2.500e+01,\n",
       "        1.500e+01, 2.200e+01, 2.300e+01, 3.000e+01, 1.600e+01, 2.200e+01,\n",
       "        2.500e+01, 1.600e+01, 1.500e+01, 1.500e+01, 1.000e+01, 1.100e+01,\n",
       "        1.200e+01, 1.700e+01, 1.700e+01, 1.100e+01, 1.700e+01, 9.000e+00,\n",
       "        1.000e+01, 1.900e+01, 1.800e+01, 6.000e+00, 1.100e+01, 8.000e+00,\n",
       "        6.000e+00, 1.100e+01, 1.200e+01, 1.300e+01, 1.700e+01, 1.400e+01,\n",
       "        9.000e+00, 6.000e+00, 1.300e+01, 7.000e+00, 1.200e+01, 5.000e+00,\n",
       "        1.100e+01, 8.000e+00, 1.100e+01, 6.000e+00, 1.000e+01, 1.200e+01,\n",
       "        6.000e+00, 3.000e+00, 6.000e+00, 4.000e+00, 9.000e+00, 2.000e+00,\n",
       "        5.000e+00, 6.000e+00, 6.000e+00, 4.000e+00, 3.000e+00, 4.000e+00,\n",
       "        6.000e+00, 3.000e+00, 6.000e+00, 4.000e+00, 5.000e+00, 4.000e+00,\n",
       "        5.000e+00, 3.000e+00, 4.000e+00, 3.000e+00, 5.000e+00, 2.000e+00,\n",
       "        2.000e+00, 4.000e+00, 1.000e+00, 3.000e+00, 2.000e+00, 4.000e+00,\n",
       "        5.000e+00, 3.000e+00, 1.000e+00, 2.000e+00, 2.000e+00, 3.000e+00,\n",
       "        4.000e+00, 1.000e+00, 0.000e+00, 0.000e+00, 4.000e+00, 1.000e+00,\n",
       "        2.000e+00, 1.000e+00, 4.000e+00, 3.000e+00, 1.000e+00, 1.000e+00,\n",
       "        2.000e+00, 1.000e+00, 2.000e+00, 1.000e+00, 0.000e+00, 0.000e+00,\n",
       "        1.000e+00, 2.000e+00, 0.000e+00, 0.000e+00, 0.000e+00, 1.000e+00,\n",
       "        2.000e+00, 1.000e+00, 0.000e+00, 0.000e+00, 0.000e+00, 1.000e+00,\n",
       "        2.000e+00, 0.000e+00, 1.000e+00, 1.000e+00, 0.000e+00, 0.000e+00,\n",
       "        0.000e+00, 0.000e+00, 0.000e+00, 0.000e+00, 1.000e+00, 1.000e+00,\n",
       "        2.000e+00, 0.000e+00, 1.000e+00, 0.000e+00, 0.000e+00, 0.000e+00,\n",
       "        0.000e+00, 0.000e+00, 0.000e+00, 0.000e+00, 1.000e+00, 1.000e+00,\n",
       "        0.000e+00, 0.000e+00, 0.000e+00, 0.000e+00, 0.000e+00, 0.000e+00,\n",
       "        0.000e+00, 0.000e+00, 0.000e+00, 1.000e+00]),\n",
       " array([-5.08772071, -5.07808492, -5.06844913, ...,  4.52879416,\n",
       "         4.53842995,  4.54806573]),\n",
       " <BarContainer object of 1000 artists>)"
      ]
     },
     "execution_count": 77,
     "metadata": {},
     "output_type": "execute_result"
    },
    {
     "data": {
      "image/png": "[encoded data removed]",
      "text/plain": [
       "<Figure size 640x480 with 1 Axes>"
      ]
     },
     "metadata": {},
     "output_type": "display_data"
    }
   ],
   "source": [
    "B=np.random.randn(1000000)\n",
    "plt.hist(B,bins=1000)"
   ]
  },
  {
   "cell_type": "code",
   "execution_count": null,
   "metadata": {},
   "outputs": [],
   "source": [
    "C= np.random.rand(2,3)"
   ]
  },
  {
   "cell_type": "code",
   "execution_count": null,
   "metadata": {},
   "outputs": [
    {
     "data": {
      "text/plain": [
       "array([[0.56738356, 0.55802766, 0.77381888],\n",
       "       [0.04288555, 0.86436209, 0.26313858]])"
      ]
     },
     "execution_count": 79,
     "metadata": {},
     "output_type": "execute_result"
    }
   ],
   "source": [
    "C"
   ]
  },
  {
   "cell_type": "code",
   "execution_count": null,
   "metadata": {},
   "outputs": [
    {
     "data": {
      "text/plain": [
       "2"
      ]
     },
     "execution_count": 80,
     "metadata": {},
     "output_type": "execute_result"
    }
   ],
   "source": [
    "C.ndim"
   ]
  },
  {
   "cell_type": "code",
   "execution_count": null,
   "metadata": {},
   "outputs": [
    {
     "name": "stdout",
     "output_type": "stream",
     "text": [
      "\u001b[1;31mDocstring:\u001b[0m\n",
      "zeros(shape, dtype=float, order='C', *, like=None)\n",
      "\n",
      "Return a new array of given shape and type, filled with zeros.\n",
      "\n",
      "Parameters\n",
      "----------\n",
      "shape : int or tuple of ints\n",
      "    Shape of the new array, e.g., ``(2, 3)`` or ``2``.\n",
      "dtype : data-type, optional\n",
      "    The desired data-type for the array, e.g., `numpy.int8`.  Default is\n",
      "    `numpy.float64`.\n",
      "order : {'C', 'F'}, optional, default: 'C'\n",
      "    Whether to store multi-dimensional data in row-major\n",
      "    (C-style) or column-major (Fortran-style) order in\n",
      "    memory.\n",
      "like : array_like, optional\n",
      "    Reference object to allow the creation of arrays which are not\n",
      "    NumPy arrays. If an array-like passed in as ``like`` supports\n",
      "    the ``__array_function__`` protocol, the result will be defined\n",
      "    by it. In this case, it ensures the creation of an array object\n",
      "    compatible with that passed in via this argument.\n",
      "\n",
      "    .. versionadded:: 1.20.0\n",
      "\n",
      "Returns\n",
      "-------\n",
      "out : ndarray\n",
      "    Array of zeros with the given shape, dtype, and order.\n",
      "\n",
      "See Also\n",
      "--------\n",
      "zeros_like : Return an array of zeros with shape and type of input.\n",
      "empty : Return a new uninitialized array.\n",
      "ones : Return a new array setting values to one.\n",
      "full : Return a new array of given shape filled with value.\n",
      "\n",
      "Examples\n",
      "--------\n",
      ">>> np.zeros(5)\n",
      "array([ 0.,  0.,  0.,  0.,  0.])\n",
      "\n",
      ">>> np.zeros((5,), dtype=int)\n",
      "array([0, 0, 0, 0, 0])\n",
      "\n",
      ">>> np.zeros((2, 1))\n",
      "array([[ 0.],\n",
      "       [ 0.]])\n",
      "\n",
      ">>> s = (2,2)\n",
      ">>> np.zeros(s)\n",
      "array([[ 0.,  0.],\n",
      "       [ 0.,  0.]])\n",
      "\n",
      ">>> np.zeros((2,), dtype=[('x', 'i4'), ('y', 'i4')]) # custom dtype\n",
      "array([(0, 0), (0, 0)],\n",
      "      dtype=[('x', '<i4'), ('y', '<i4')])\n",
      "\u001b[1;31mType:\u001b[0m      builtin_function_or_method"
     ]
    }
   ],
   "source": [
    "np.zeros?"
   ]
  },
  {
   "cell_type": "code",
   "execution_count": null,
   "metadata": {},
   "outputs": [
    {
     "name": "stdout",
     "output_type": "stream",
     "text": [
      "\u001b[1;31mSignature:\u001b[0m \u001b[0mnp\u001b[0m\u001b[1;33m.\u001b[0m\u001b[0mones\u001b[0m\u001b[1;33m(\u001b[0m\u001b[0mshape\u001b[0m\u001b[1;33m,\u001b[0m \u001b[0mdtype\u001b[0m\u001b[1;33m=\u001b[0m\u001b[1;32mNone\u001b[0m\u001b[1;33m,\u001b[0m \u001b[0morder\u001b[0m\u001b[1;33m=\u001b[0m\u001b[1;34m'C'\u001b[0m\u001b[1;33m,\u001b[0m \u001b[1;33m*\u001b[0m\u001b[1;33m,\u001b[0m \u001b[0mlike\u001b[0m\u001b[1;33m=\u001b[0m\u001b[1;32mNone\u001b[0m\u001b[1;33m)\u001b[0m\u001b[1;33m\u001b[0m\u001b[1;33m\u001b[0m\u001b[0m\n",
      "\u001b[1;31mDocstring:\u001b[0m\n",
      "Return a new array of given shape and type, filled with ones.\n",
      "\n",
      "Parameters\n",
      "----------\n",
      "shape : int or sequence of ints\n",
      "    Shape of the new array, e.g., ``(2, 3)`` or ``2``.\n",
      "dtype : data-type, optional\n",
      "    The desired data-type for the array, e.g., `numpy.int8`.  Default is\n",
      "    `numpy.float64`.\n",
      "order : {'C', 'F'}, optional, default: C\n",
      "    Whether to store multi-dimensional data in row-major\n",
      "    (C-style) or column-major (Fortran-style) order in\n",
      "    memory.\n",
      "like : array_like, optional\n",
      "    Reference object to allow the creation of arrays which are not\n",
      "    NumPy arrays. If an array-like passed in as ``like`` supports\n",
      "    the ``__array_function__`` protocol, the result will be defined\n",
      "    by it. In this case, it ensures the creation of an array object\n",
      "    compatible with that passed in via this argument.\n",
      "\n",
      "    .. versionadded:: 1.20.0\n",
      "\n",
      "Returns\n",
      "-------\n",
      "out : ndarray\n",
      "    Array of ones with the given shape, dtype, and order.\n",
      "\n",
      "See Also\n",
      "--------\n",
      "ones_like : Return an array of ones with shape and type of input.\n",
      "empty : Return a new uninitialized array.\n",
      "zeros : Return a new array setting values to zero.\n",
      "full : Return a new array of given shape filled with value.\n",
      "\n",
      "\n",
      "Examples\n",
      "--------\n",
      ">>> np.ones(5)\n",
      "array([1., 1., 1., 1., 1.])\n",
      "\n",
      ">>> np.ones((5,), dtype=int)\n",
      "array([1, 1, 1, 1, 1])\n",
      "\n",
      ">>> np.ones((2, 1))\n",
      "array([[1.],\n",
      "       [1.]])\n",
      "\n",
      ">>> s = (2,2)\n",
      ">>> np.ones(s)\n",
      "array([[1.,  1.],\n",
      "       [1.,  1.]])\n",
      "\u001b[1;31mFile:\u001b[0m      c:\\users\\oğuz bulut\\appdata\\local\\programs\\python\\python311\\lib\\site-packages\\numpy\\core\\numeric.py\n",
      "\u001b[1;31mType:\u001b[0m      function"
     ]
    }
   ],
   "source": [
    "np.ones?"
   ]
  },
  {
   "cell_type": "code",
   "execution_count": null,
   "metadata": {},
   "outputs": [
    {
     "name": "stdout",
     "output_type": "stream",
     "text": [
      "[ 1  2  3  4  5  6  7  8  9 10 11 12 13 14 15 16 17 18 19 20 21 22 23 24\n",
      " 25 26 27 28 29 30]\n"
     ]
    }
   ],
   "source": [
    "number=np.arange(1,31)\n",
    "print(number)"
   ]
  },
  {
   "cell_type": "code",
   "execution_count": null,
   "metadata": {},
   "outputs": [
    {
     "name": "stdout",
     "output_type": "stream",
     "text": [
      "[ 4  5  6  7  8  9 10]\n"
     ]
    }
   ],
   "source": [
    "numberShadow=number[3:10]\n",
    "print(numberShadow)"
   ]
  },
  {
   "cell_type": "code",
   "execution_count": null,
   "metadata": {},
   "outputs": [
    {
     "name": "stdout",
     "output_type": "stream",
     "text": [
      "[128   5   6   7   8   9  10]\n"
     ]
    }
   ],
   "source": [
    "numberShadow[0]=128 #It effects actual array and change the value\n",
    "print(numberShadow)"
   ]
  },
  {
   "cell_type": "code",
   "execution_count": null,
   "metadata": {},
   "outputs": [
    {
     "name": "stdout",
     "output_type": "stream",
     "text": [
      "[  1   2   3 128   5   6   7   8   9  10  11  12  13  14  15  16  17  18\n",
      "  19  20  21  22  23  24  25  26  27  28  29  30]\n"
     ]
    }
   ],
   "source": [
    "print(number)"
   ]
  },
  {
   "cell_type": "code",
   "execution_count": null,
   "metadata": {},
   "outputs": [
    {
     "name": "stdout",
     "output_type": "stream",
     "text": [
      "[0 1 2 3 4 5 6 7 8 9]\n"
     ]
    }
   ],
   "source": [
    "sayi=np.arange(10)\n",
    "print(sayi)"
   ]
  },
  {
   "cell_type": "code",
   "execution_count": null,
   "metadata": {},
   "outputs": [
    {
     "name": "stdout",
     "output_type": "stream",
     "text": [
      "[0 1 2 3 4 5 6 7 8 9]\n",
      "[2 3 4]\n"
     ]
    }
   ],
   "source": [
    "kopya=sayi[2:5].copy()#The copy function copied actual list and when i change the copied variable it did not effect actual list, it provide protecting actual data for edit with your decision\n",
    "print(sayi)\n",
    "print(kopya)"
   ]
  },
  {
   "cell_type": "code",
   "execution_count": null,
   "metadata": {},
   "outputs": [
    {
     "name": "stdout",
     "output_type": "stream",
     "text": [
      "[0 1 2 3 4 5 6 7 8 9]\n",
      "[71  3  4]\n"
     ]
    }
   ],
   "source": [
    "kopya[0]=71\n",
    "print(sayi)\n",
    "print(kopya)"
   ]
  },
  {
   "cell_type": "code",
   "execution_count": null,
   "metadata": {},
   "outputs": [
    {
     "data": {
      "text/plain": [
       "array([9, 7, 5, 3, 1])"
      ]
     },
     "execution_count": 36,
     "metadata": {},
     "output_type": "execute_result"
    }
   ],
   "source": [
    "sayi[::-2]"
   ]
  },
  {
   "cell_type": "code",
   "execution_count": null,
   "metadata": {},
   "outputs": [
    {
     "name": "stdout",
     "output_type": "stream",
     "text": [
      "[ 1  2  3  4  5  6  7  8  9 10 11 12 13 14 15 16 17 18 19 20 21 22 23 24\n",
      " 25 26 27 28 29 30]\n"
     ]
    }
   ],
   "source": [
    "print(number)"
   ]
  },
  {
   "cell_type": "code",
   "execution_count": null,
   "metadata": {},
   "outputs": [
    {
     "name": "stdout",
     "output_type": "stream",
     "text": [
      "27\n"
     ]
    }
   ],
   "source": [
    "idx=np.argwhere(number==28)[0][0]\n",
    "print(idx)"
   ]
  },
  {
   "cell_type": "code",
   "execution_count": null,
   "metadata": {},
   "outputs": [],
   "source": [
    "twoDimensionArr=np.round(10*np.random.rand(5,3))"
   ]
  },
  {
   "cell_type": "code",
   "execution_count": null,
   "metadata": {},
   "outputs": [
    {
     "data": {
      "text/plain": [
       "array([[9., 8., 1.],\n",
       "       [9., 3., 9.],\n",
       "       [8., 8., 5.],\n",
       "       [4., 6., 3.],\n",
       "       [9., 9., 7.]])"
      ]
     },
     "execution_count": 44,
     "metadata": {},
     "output_type": "execute_result"
    }
   ],
   "source": [
    "twoDimensionArr"
   ]
  },
  {
   "cell_type": "code",
   "execution_count": null,
   "metadata": {},
   "outputs": [
    {
     "data": {
      "text/plain": [
       "3.0"
      ]
     },
     "execution_count": 46,
     "metadata": {},
     "output_type": "execute_result"
    }
   ],
   "source": [
    "twoDimensionArr[3,2]"
   ]
  },
  {
   "cell_type": "code",
   "execution_count": null,
   "metadata": {},
   "outputs": [
    {
     "data": {
      "text/plain": [
       "array([4., 6., 3.])"
      ]
     },
     "execution_count": 48,
     "metadata": {},
     "output_type": "execute_result"
    }
   ],
   "source": [
    "twoDimensionArr[3,:]"
   ]
  },
  {
   "cell_type": "code",
   "execution_count": null,
   "metadata": {},
   "outputs": [
    {
     "data": {
      "text/plain": [
       "array([1., 9., 5., 3., 7.])"
      ]
     },
     "execution_count": 50,
     "metadata": {},
     "output_type": "execute_result"
    }
   ],
   "source": [
    "twoDimensionArr[:,2]"
   ]
  },
  {
   "cell_type": "code",
   "execution_count": null,
   "metadata": {},
   "outputs": [
    {
     "data": {
      "text/plain": [
       "array([[8., 5.],\n",
       "       [6., 3.]])"
      ]
     },
     "execution_count": 56,
     "metadata": {},
     "output_type": "execute_result"
    }
   ],
   "source": [
    "twoDimensionArr[2:4,1:3]"
   ]
  },
  {
   "cell_type": "code",
   "execution_count": null,
   "metadata": {},
   "outputs": [],
   "source": [
    "import numpy.linalg as la\n"
   ]
  },
  {
   "cell_type": "code",
   "execution_count": null,
   "metadata": {},
   "outputs": [],
   "source": [
    "array=la.inv(np.random.rand(4,4))# inv creates square shaped 2D arrays like 2x2, 3x3, 4x4,...."
   ]
  },
  {
   "cell_type": "code",
   "execution_count": null,
   "metadata": {},
   "outputs": [
    {
     "data": {
      "text/plain": [
       "array([[ 1.42862703, -0.02255689, -0.27936808,  0.1033145 ],\n",
       "       [-0.35260801,  1.06426375, -0.49110017,  0.89106803],\n",
       "       [ 0.20748552, -2.60871019,  1.16556067,  0.52942563],\n",
       "       [-0.97623273,  1.77962375,  0.51795473, -1.50539771]])"
      ]
     },
     "execution_count": 70,
     "metadata": {},
     "output_type": "execute_result"
    }
   ],
   "source": [
    "array"
   ]
  },
  {
   "cell_type": "code",
   "execution_count": null,
   "metadata": {},
   "outputs": [
    {
     "ename": "NameError",
     "evalue": "name 'array' is not defined",
     "output_type": "error",
     "traceback": [
      "\u001b[1;31m---------------------------------------------------------------------------\u001b[0m",
      "\u001b[1;31mNameError\u001b[0m                                 Traceback (most recent call last)",
      "Cell \u001b[1;32mIn[31], line 1\u001b[0m\n\u001b[1;32m----> 1\u001b[0m array\u001b[39m.\u001b[39msort(axis\u001b[39m=\u001b[39m\u001b[39m1\u001b[39m)\n\u001b[0;32m      2\u001b[0m \u001b[39mprint\u001b[39m(array)\n",
      "\u001b[1;31mNameError\u001b[0m: name 'array' is not defined"
     ]
    }
   ],
   "source": [
    "array.sort(axis=1)\n",
    "print(array)"
   ]
  },
  {
   "cell_type": "code",
   "execution_count": null,
   "metadata": {},
   "outputs": [],
   "source": [
    "A=np.round(10*np.random.rand(2,3))"
   ]
  },
  {
   "cell_type": "code",
   "execution_count": null,
   "metadata": {},
   "outputs": [
    {
     "data": {
      "text/plain": [
       "array([[ 3.,  5., 10.],\n",
       "       [ 8.,  4.,  7.]])"
      ]
     },
     "execution_count": 48,
     "metadata": {},
     "output_type": "execute_result"
    }
   ],
   "source": [
    "A"
   ]
  },
  {
   "cell_type": "code",
   "execution_count": null,
   "metadata": {},
   "outputs": [
    {
     "data": {
      "text/plain": [
       "array([[ 5.,  7., 12.],\n",
       "       [10.,  6.,  9.]])"
      ]
     },
     "execution_count": 49,
     "metadata": {},
     "output_type": "execute_result"
    }
   ],
   "source": [
    "A+2"
   ]
  },
  {
   "cell_type": "code",
   "execution_count": null,
   "metadata": {},
   "outputs": [
    {
     "data": {
      "text/plain": [
       "array([[ 3.,  5., 10.],\n",
       "       [ 8.,  4.,  7.]])"
      ]
     },
     "execution_count": 50,
     "metadata": {},
     "output_type": "execute_result"
    }
   ],
   "source": [
    "A"
   ]
  },
  {
   "cell_type": "code",
   "execution_count": null,
   "metadata": {},
   "outputs": [
    {
     "data": {
      "text/plain": [
       "array([[ 3.,  5., 10.],\n",
       "       [ 9.,  5.,  8.]])"
      ]
     },
     "execution_count": 51,
     "metadata": {},
     "output_type": "execute_result"
    }
   ],
   "source": [
    "A+(np.arange(2).reshape(2,1))"
   ]
  },
  {
   "cell_type": "code",
   "execution_count": null,
   "metadata": {},
   "outputs": [],
   "source": [
    "B=np.round(10*np.random.rand(2,3))"
   ]
  },
  {
   "cell_type": "code",
   "execution_count": null,
   "metadata": {},
   "outputs": [
    {
     "data": {
      "text/plain": [
       "array([[9., 4., 9.],\n",
       "       [2., 8., 3.]])"
      ]
     },
     "execution_count": 53,
     "metadata": {},
     "output_type": "execute_result"
    }
   ],
   "source": [
    "B"
   ]
  },
  {
   "cell_type": "code",
   "execution_count": null,
   "metadata": {},
   "outputs": [
    {
     "data": {
      "text/plain": [
       "array([[ 3.,  5., 10.],\n",
       "       [ 8.,  4.,  7.]])"
      ]
     },
     "execution_count": 54,
     "metadata": {},
     "output_type": "execute_result"
    }
   ],
   "source": [
    "A"
   ]
  },
  {
   "cell_type": "code",
   "execution_count": null,
   "metadata": {},
   "outputs": [],
   "source": [
    "C=np.hstack((A,B))"
   ]
  },
  {
   "cell_type": "code",
   "execution_count": null,
   "metadata": {},
   "outputs": [
    {
     "data": {
      "text/plain": [
       "array([[ 3.,  5., 10.,  9.,  4.,  9.],\n",
       "       [ 8.,  4.,  7.,  2.,  8.,  3.]])"
      ]
     },
     "execution_count": 56,
     "metadata": {},
     "output_type": "execute_result"
    }
   ],
   "source": [
    "C"
   ]
  },
  {
   "cell_type": "code",
   "execution_count": null,
   "metadata": {},
   "outputs": [],
   "source": [
    "D=np.vstack((A,B))"
   ]
  },
  {
   "cell_type": "code",
   "execution_count": null,
   "metadata": {},
   "outputs": [
    {
     "data": {
      "text/plain": [
       "array([[ 3.,  5., 10.],\n",
       "       [ 8.,  4.,  7.],\n",
       "       [ 9.,  4.,  9.],\n",
       "       [ 2.,  8.,  3.]])"
      ]
     },
     "execution_count": 58,
     "metadata": {},
     "output_type": "execute_result"
    }
   ],
   "source": [
    "D"
   ]
  },
  {
   "cell_type": "code",
   "execution_count": null,
   "metadata": {},
   "outputs": [],
   "source": [
    "P=np.random.permutation(np.arange(10))"
   ]
  },
  {
   "cell_type": "code",
   "execution_count": null,
   "metadata": {},
   "outputs": [
    {
     "data": {
      "text/plain": [
       "array([6, 7, 0, 8, 2, 1, 9, 3, 4, 5])"
      ]
     },
     "execution_count": 61,
     "metadata": {},
     "output_type": "execute_result"
    }
   ],
   "source": [
    "P"
   ]
  },
  {
   "cell_type": "code",
   "execution_count": null,
   "metadata": {},
   "outputs": [],
   "source": [
    "P2=np.random.permutation(P)"
   ]
  },
  {
   "cell_type": "code",
   "execution_count": null,
   "metadata": {},
   "outputs": [
    {
     "data": {
      "text/plain": [
       "array([0, 5, 1, 9, 7, 2, 3, 4, 8, 6])"
      ]
     },
     "execution_count": 64,
     "metadata": {},
     "output_type": "execute_result"
    }
   ],
   "source": [
    "P2"
   ]
  },
  {
   "cell_type": "code",
   "execution_count": null,
   "metadata": {},
   "outputs": [],
   "source": [
    "horizontalP=np.hstack((P,P2))"
   ]
  },
  {
   "cell_type": "code",
   "execution_count": null,
   "metadata": {},
   "outputs": [
    {
     "data": {
      "text/plain": [
       "array([6, 7, 0, 8, 2, 1, 9, 3, 4, 5, 0, 5, 1, 9, 7, 2, 3, 4, 8, 6])"
      ]
     },
     "execution_count": 68,
     "metadata": {},
     "output_type": "execute_result"
    }
   ],
   "source": [
    "horizontalP"
   ]
  },
  {
   "cell_type": "code",
   "execution_count": null,
   "metadata": {},
   "outputs": [],
   "source": [
    "verticalP=np.vstack((P,P2))"
   ]
  },
  {
   "cell_type": "code",
   "execution_count": null,
   "metadata": {},
   "outputs": [
    {
     "data": {
      "text/plain": [
       "array([[6, 7, 0, 8, 2, 1, 9, 3, 4, 5],\n",
       "       [0, 5, 1, 9, 7, 2, 3, 4, 8, 6]])"
      ]
     },
     "execution_count": 77,
     "metadata": {},
     "output_type": "execute_result"
    }
   ],
   "source": [
    "verticalP"
   ]
  },
  {
   "cell_type": "code",
   "execution_count": null,
   "metadata": {},
   "outputs": [],
   "source": [
    "verticalP_V2=np.vstack((P,P2[::-1]))"
   ]
  },
  {
   "cell_type": "code",
   "execution_count": null,
   "metadata": {},
   "outputs": [
    {
     "data": {
      "text/plain": [
       "array([[6, 7, 0, 8, 2, 1, 9, 3, 4, 5],\n",
       "       [6, 8, 4, 3, 2, 7, 9, 1, 5, 0]])"
      ]
     },
     "execution_count": 82,
     "metadata": {},
     "output_type": "execute_result"
    }
   ],
   "source": [
    "verticalP_V2"
   ]
  },
  {
   "cell_type": "code",
   "execution_count": null,
   "metadata": {},
   "outputs": [
    {
     "data": {
      "text/plain": [
       "array([6, 7, 0, 8, 2, 1, 9, 3, 4, 5, 0, 5, 1, 9, 7, 2, 3, 4, 8, 6])"
      ]
     },
     "execution_count": 84,
     "metadata": {},
     "output_type": "execute_result"
    }
   ],
   "source": [
    "horizontalP"
   ]
  },
  {
   "cell_type": "code",
   "execution_count": null,
   "metadata": {},
   "outputs": [
    {
     "data": {
      "text/plain": [
       "array([0, 0, 1, 1, 2, 2, 3, 3, 4, 4, 5, 5, 6, 6, 7, 7, 8, 8, 9, 9])"
      ]
     },
     "execution_count": 86,
     "metadata": {},
     "output_type": "execute_result"
    }
   ],
   "source": [
    "np.sort(horizontalP)"
   ]
  },
  {
   "cell_type": "code",
   "execution_count": null,
   "metadata": {},
   "outputs": [
    {
     "data": {
      "text/plain": [
       "array([[0, 1, 2, 3, 4, 5, 6, 7, 8, 9],\n",
       "       [0, 1, 2, 3, 4, 5, 6, 7, 8, 9]])"
      ]
     },
     "execution_count": 88,
     "metadata": {},
     "output_type": "execute_result"
    }
   ],
   "source": [
    "np.sort(verticalP)"
   ]
  },
  {
   "cell_type": "code",
   "execution_count": null,
   "metadata": {},
   "outputs": [
    {
     "name": "stdout",
     "output_type": "stream",
     "text": [
      "569 µs ± 19.1 µs per loop (mean ± std. dev. of 7 runs, 1,000 loops each)\n",
      "4.03 µs ± 13.3 ns per loop (mean ± std. dev. of 7 runs, 100,000 loops each)\n"
     ]
    }
   ],
   "source": [
    "S=np.random.rand(10000)\n",
    "%timeit sum(S)\n",
    "%timeit np.sum(S) # It makes same process with sum(S), the difference is just the first one is global funcntion and second one is numpy function"
   ]
  },
  {
   "cell_type": "code",
   "execution_count": null,
   "metadata": {},
   "outputs": [],
   "source": [
    "def mySum(I):\n",
    "    s=0\n",
    "    for x in I:\n",
    "        s+=x\n",
    "    return s"
   ]
  },
  {
   "cell_type": "code",
   "execution_count": null,
   "metadata": {},
   "outputs": [
    {
     "name": "stdout",
     "output_type": "stream",
     "text": [
      "553 µs ± 19.3 µs per loop (mean ± std. dev. of 7 runs, 1,000 loops each)\n",
      "4.06 µs ± 80.1 ns per loop (mean ± std. dev. of 7 runs, 100,000 loops each)\n",
      "739 µs ± 4.15 µs per loop (mean ± std. dev. of 7 runs, 1,000 loops each)\n"
     ]
    }
   ],
   "source": [
    "S=np.random.rand(10000)\n",
    "%timeit sum(S)\n",
    "%timeit np.sum(S)\n",
    "%timeit mySum(S)"
   ]
  },
  {
   "cell_type": "code",
   "execution_count": 19,
   "metadata": {},
   "outputs": [],
   "source": [
    "import pandas as pd"
   ]
  },
  {
   "cell_type": "code",
   "execution_count": null,
   "metadata": {},
   "outputs": [
    {
     "name": "stdout",
     "output_type": "stream",
     "text": [
      "2.0.3\n"
     ]
    }
   ],
   "source": [
    "print(pd.__version__)"
   ]
  },
  {
   "cell_type": "code",
   "execution_count": 20,
   "metadata": {},
   "outputs": [],
   "source": [
    "T=pd.Series([2,3,4,5],index=['a','b','c','d'])"
   ]
  },
  {
   "cell_type": "code",
   "execution_count": 21,
   "metadata": {},
   "outputs": [
    {
     "data": {
      "text/plain": [
       "array([2, 3, 4, 5], dtype=int64)"
      ]
     },
     "execution_count": 21,
     "metadata": {},
     "output_type": "execute_result"
    }
   ],
   "source": [
    "T.values"
   ]
  },
  {
   "cell_type": "code",
   "execution_count": 22,
   "metadata": {},
   "outputs": [
    {
     "data": {
      "text/plain": [
       "2"
      ]
     },
     "execution_count": 22,
     "metadata": {},
     "output_type": "execute_result"
    }
   ],
   "source": [
    "T['a']"
   ]
  },
  {
   "cell_type": "code",
   "execution_count": 23,
   "metadata": {},
   "outputs": [
    {
     "data": {
      "text/plain": [
       "numpy.ndarray"
      ]
     },
     "execution_count": 23,
     "metadata": {},
     "output_type": "execute_result"
    }
   ],
   "source": [
    "type(T.values)"
   ]
  },
  {
   "cell_type": "code",
   "execution_count": null,
   "metadata": {},
   "outputs": [
    {
     "data": {
      "text/plain": [
       "numpy.ndarray"
      ]
     },
     "execution_count": 114,
     "metadata": {},
     "output_type": "execute_result"
    }
   ],
   "source": [
    "type(A)"
   ]
  },
  {
   "cell_type": "code",
   "execution_count": null,
   "metadata": {},
   "outputs": [
    {
     "data": {
      "text/plain": [
       "Index(['a', 'b', 'c', 'd'], dtype='object')"
      ]
     },
     "execution_count": 118,
     "metadata": {},
     "output_type": "execute_result"
    }
   ],
   "source": [
    "T.index"
   ]
  },
  {
   "cell_type": "code",
   "execution_count": 24,
   "metadata": {},
   "outputs": [
    {
     "data": {
      "text/plain": [
       "a    2\n",
       "b    3\n",
       "c    4\n",
       "dtype: int64"
      ]
     },
     "execution_count": 24,
     "metadata": {},
     "output_type": "execute_result"
    }
   ],
   "source": [
    "T['a':'c']"
   ]
  },
  {
   "cell_type": "code",
   "execution_count": 25,
   "metadata": {},
   "outputs": [],
   "source": [
    "marks_dict={'A':85,'A-':80,'B+':75,'B':70,'B-':65,'C':60}\n",
    "marks=pd.Series(marks_dict)"
   ]
  },
  {
   "cell_type": "code",
   "execution_count": null,
   "metadata": {},
   "outputs": [
    {
     "data": {
      "text/plain": [
       "{'A': 85, 'A-': 80, 'B+': 75, 'B': 70, 'B-': 65, 'C': 60}"
      ]
     },
     "execution_count": 150,
     "metadata": {},
     "output_type": "execute_result"
    }
   ],
   "source": [
    "marks_dict"
   ]
  },
  {
   "cell_type": "code",
   "execution_count": 26,
   "metadata": {},
   "outputs": [
    {
     "data": {
      "text/plain": [
       "A     85\n",
       "A-    80\n",
       "B+    75\n",
       "B     70\n",
       "B-    65\n",
       "C     60\n",
       "dtype: int64"
      ]
     },
     "execution_count": 26,
     "metadata": {},
     "output_type": "execute_result"
    }
   ],
   "source": [
    "marks"
   ]
  },
  {
   "cell_type": "code",
   "execution_count": 27,
   "metadata": {},
   "outputs": [],
   "source": [
    "grades_dict={'A':4,'A-':3.75,'B+':3.5,'B':3.25,'B-':3,'C':2.75}\n",
    "grades=pd.Series(grades_dict)"
   ]
  },
  {
   "cell_type": "code",
   "execution_count": 28,
   "metadata": {},
   "outputs": [
    {
     "data": {
      "text/plain": [
       "A     4.00\n",
       "A-    3.75\n",
       "B+    3.50\n",
       "B     3.25\n",
       "B-    3.00\n",
       "C     2.75\n",
       "dtype: float64"
      ]
     },
     "execution_count": 28,
     "metadata": {},
     "output_type": "execute_result"
    }
   ],
   "source": [
    "grades"
   ]
  },
  {
   "cell_type": "code",
   "execution_count": 29,
   "metadata": {},
   "outputs": [],
   "source": [
    "frame=pd.DataFrame({'Marks':marks,'Grades':grades})"
   ]
  },
  {
   "cell_type": "code",
   "execution_count": 30,
   "metadata": {},
   "outputs": [
    {
     "data": {
      "text/html": [
       "<div>\n",
       "<style scoped>\n",
       "    .dataframe tbody tr th:only-of-type {\n",
       "        vertical-align: middle;\n",
       "    }\n",
       "\n",
       "    .dataframe tbody tr th {\n",
       "        vertical-align: top;\n",
       "    }\n",
       "\n",
       "    .dataframe thead th {\n",
       "        text-align: right;\n",
       "    }\n",
       "</style>\n",
       "<table border=\"1\" class=\"dataframe\">\n",
       "  <thead>\n",
       "    <tr style=\"text-align: right;\">\n",
       "      <th></th>\n",
       "      <th>Marks</th>\n",
       "      <th>Grades</th>\n",
       "    </tr>\n",
       "  </thead>\n",
       "  <tbody>\n",
       "    <tr>\n",
       "      <th>A</th>\n",
       "      <td>85</td>\n",
       "      <td>4.00</td>\n",
       "    </tr>\n",
       "    <tr>\n",
       "      <th>A-</th>\n",
       "      <td>80</td>\n",
       "      <td>3.75</td>\n",
       "    </tr>\n",
       "    <tr>\n",
       "      <th>B+</th>\n",
       "      <td>75</td>\n",
       "      <td>3.50</td>\n",
       "    </tr>\n",
       "    <tr>\n",
       "      <th>B</th>\n",
       "      <td>70</td>\n",
       "      <td>3.25</td>\n",
       "    </tr>\n",
       "    <tr>\n",
       "      <th>B-</th>\n",
       "      <td>65</td>\n",
       "      <td>3.00</td>\n",
       "    </tr>\n",
       "    <tr>\n",
       "      <th>C</th>\n",
       "      <td>60</td>\n",
       "      <td>2.75</td>\n",
       "    </tr>\n",
       "  </tbody>\n",
       "</table>\n",
       "</div>"
      ],
      "text/plain": [
       "    Marks  Grades\n",
       "A      85    4.00\n",
       "A-     80    3.75\n",
       "B+     75    3.50\n",
       "B      70    3.25\n",
       "B-     65    3.00\n",
       "C      60    2.75"
      ]
     },
     "execution_count": 30,
     "metadata": {},
     "output_type": "execute_result"
    }
   ],
   "source": [
    "frame"
   ]
  },
  {
   "cell_type": "code",
   "execution_count": 31,
   "metadata": {},
   "outputs": [
    {
     "data": {
      "text/html": [
       "<div>\n",
       "<style scoped>\n",
       "    .dataframe tbody tr th:only-of-type {\n",
       "        vertical-align: middle;\n",
       "    }\n",
       "\n",
       "    .dataframe tbody tr th {\n",
       "        vertical-align: top;\n",
       "    }\n",
       "\n",
       "    .dataframe thead th {\n",
       "        text-align: right;\n",
       "    }\n",
       "</style>\n",
       "<table border=\"1\" class=\"dataframe\">\n",
       "  <thead>\n",
       "    <tr style=\"text-align: right;\">\n",
       "      <th></th>\n",
       "      <th>A</th>\n",
       "      <th>A-</th>\n",
       "      <th>B+</th>\n",
       "      <th>B</th>\n",
       "      <th>B-</th>\n",
       "      <th>C</th>\n",
       "    </tr>\n",
       "  </thead>\n",
       "  <tbody>\n",
       "    <tr>\n",
       "      <th>Marks</th>\n",
       "      <td>85.0</td>\n",
       "      <td>80.00</td>\n",
       "      <td>75.0</td>\n",
       "      <td>70.00</td>\n",
       "      <td>65.0</td>\n",
       "      <td>60.00</td>\n",
       "    </tr>\n",
       "    <tr>\n",
       "      <th>Grades</th>\n",
       "      <td>4.0</td>\n",
       "      <td>3.75</td>\n",
       "      <td>3.5</td>\n",
       "      <td>3.25</td>\n",
       "      <td>3.0</td>\n",
       "      <td>2.75</td>\n",
       "    </tr>\n",
       "  </tbody>\n",
       "</table>\n",
       "</div>"
      ],
      "text/plain": [
       "           A     A-    B+      B    B-      C\n",
       "Marks   85.0  80.00  75.0  70.00  65.0  60.00\n",
       "Grades   4.0   3.75   3.5   3.25   3.0   2.75"
      ]
     },
     "execution_count": 31,
     "metadata": {},
     "output_type": "execute_result"
    }
   ],
   "source": [
    "frame.T"
   ]
  },
  {
   "cell_type": "code",
   "execution_count": 32,
   "metadata": {},
   "outputs": [
    {
     "data": {
      "text/plain": [
       "array([[85.  ,  4.  ],\n",
       "       [80.  ,  3.75],\n",
       "       [75.  ,  3.5 ],\n",
       "       [70.  ,  3.25],\n",
       "       [65.  ,  3.  ],\n",
       "       [60.  ,  2.75]])"
      ]
     },
     "execution_count": 32,
     "metadata": {},
     "output_type": "execute_result"
    }
   ],
   "source": [
    "frame.values"
   ]
  },
  {
   "cell_type": "code",
   "execution_count": 33,
   "metadata": {},
   "outputs": [],
   "source": [
    "frame['Scaled Marks']= 100*(frame['Marks' ]/90)"
   ]
  },
  {
   "cell_type": "code",
   "execution_count": 34,
   "metadata": {},
   "outputs": [
    {
     "data": {
      "text/html": [
       "<div>\n",
       "<style scoped>\n",
       "    .dataframe tbody tr th:only-of-type {\n",
       "        vertical-align: middle;\n",
       "    }\n",
       "\n",
       "    .dataframe tbody tr th {\n",
       "        vertical-align: top;\n",
       "    }\n",
       "\n",
       "    .dataframe thead th {\n",
       "        text-align: right;\n",
       "    }\n",
       "</style>\n",
       "<table border=\"1\" class=\"dataframe\">\n",
       "  <thead>\n",
       "    <tr style=\"text-align: right;\">\n",
       "      <th></th>\n",
       "      <th>Marks</th>\n",
       "      <th>Grades</th>\n",
       "      <th>Scaled Marks</th>\n",
       "    </tr>\n",
       "  </thead>\n",
       "  <tbody>\n",
       "    <tr>\n",
       "      <th>A</th>\n",
       "      <td>85</td>\n",
       "      <td>4.00</td>\n",
       "      <td>94.444444</td>\n",
       "    </tr>\n",
       "    <tr>\n",
       "      <th>A-</th>\n",
       "      <td>80</td>\n",
       "      <td>3.75</td>\n",
       "      <td>88.888889</td>\n",
       "    </tr>\n",
       "    <tr>\n",
       "      <th>B+</th>\n",
       "      <td>75</td>\n",
       "      <td>3.50</td>\n",
       "      <td>83.333333</td>\n",
       "    </tr>\n",
       "    <tr>\n",
       "      <th>B</th>\n",
       "      <td>70</td>\n",
       "      <td>3.25</td>\n",
       "      <td>77.777778</td>\n",
       "    </tr>\n",
       "    <tr>\n",
       "      <th>B-</th>\n",
       "      <td>65</td>\n",
       "      <td>3.00</td>\n",
       "      <td>72.222222</td>\n",
       "    </tr>\n",
       "    <tr>\n",
       "      <th>C</th>\n",
       "      <td>60</td>\n",
       "      <td>2.75</td>\n",
       "      <td>66.666667</td>\n",
       "    </tr>\n",
       "  </tbody>\n",
       "</table>\n",
       "</div>"
      ],
      "text/plain": [
       "    Marks  Grades  Scaled Marks\n",
       "A      85    4.00     94.444444\n",
       "A-     80    3.75     88.888889\n",
       "B+     75    3.50     83.333333\n",
       "B      70    3.25     77.777778\n",
       "B-     65    3.00     72.222222\n",
       "C      60    2.75     66.666667"
      ]
     },
     "execution_count": 34,
     "metadata": {},
     "output_type": "execute_result"
    }
   ],
   "source": [
    "frame"
   ]
  },
  {
   "cell_type": "code",
   "execution_count": 35,
   "metadata": {},
   "outputs": [],
   "source": [
    "del frame['Scaled Marks']"
   ]
  },
  {
   "cell_type": "code",
   "execution_count": 36,
   "metadata": {},
   "outputs": [
    {
     "data": {
      "text/html": [
       "<div>\n",
       "<style scoped>\n",
       "    .dataframe tbody tr th:only-of-type {\n",
       "        vertical-align: middle;\n",
       "    }\n",
       "\n",
       "    .dataframe tbody tr th {\n",
       "        vertical-align: top;\n",
       "    }\n",
       "\n",
       "    .dataframe thead th {\n",
       "        text-align: right;\n",
       "    }\n",
       "</style>\n",
       "<table border=\"1\" class=\"dataframe\">\n",
       "  <thead>\n",
       "    <tr style=\"text-align: right;\">\n",
       "      <th></th>\n",
       "      <th>Marks</th>\n",
       "      <th>Grades</th>\n",
       "    </tr>\n",
       "  </thead>\n",
       "  <tbody>\n",
       "    <tr>\n",
       "      <th>A</th>\n",
       "      <td>85</td>\n",
       "      <td>4.00</td>\n",
       "    </tr>\n",
       "    <tr>\n",
       "      <th>A-</th>\n",
       "      <td>80</td>\n",
       "      <td>3.75</td>\n",
       "    </tr>\n",
       "    <tr>\n",
       "      <th>B+</th>\n",
       "      <td>75</td>\n",
       "      <td>3.50</td>\n",
       "    </tr>\n",
       "    <tr>\n",
       "      <th>B</th>\n",
       "      <td>70</td>\n",
       "      <td>3.25</td>\n",
       "    </tr>\n",
       "    <tr>\n",
       "      <th>B-</th>\n",
       "      <td>65</td>\n",
       "      <td>3.00</td>\n",
       "    </tr>\n",
       "    <tr>\n",
       "      <th>C</th>\n",
       "      <td>60</td>\n",
       "      <td>2.75</td>\n",
       "    </tr>\n",
       "  </tbody>\n",
       "</table>\n",
       "</div>"
      ],
      "text/plain": [
       "    Marks  Grades\n",
       "A      85    4.00\n",
       "A-     80    3.75\n",
       "B+     75    3.50\n",
       "B      70    3.25\n",
       "B-     65    3.00\n",
       "C      60    2.75"
      ]
     },
     "execution_count": 36,
     "metadata": {},
     "output_type": "execute_result"
    }
   ],
   "source": [
    "frame"
   ]
  },
  {
   "cell_type": "code",
   "execution_count": 37,
   "metadata": {},
   "outputs": [],
   "source": [
    "G=frame[frame['Marks']>70]"
   ]
  },
  {
   "cell_type": "code",
   "execution_count": 38,
   "metadata": {},
   "outputs": [
    {
     "data": {
      "text/html": [
       "<div>\n",
       "<style scoped>\n",
       "    .dataframe tbody tr th:only-of-type {\n",
       "        vertical-align: middle;\n",
       "    }\n",
       "\n",
       "    .dataframe tbody tr th {\n",
       "        vertical-align: top;\n",
       "    }\n",
       "\n",
       "    .dataframe thead th {\n",
       "        text-align: right;\n",
       "    }\n",
       "</style>\n",
       "<table border=\"1\" class=\"dataframe\">\n",
       "  <thead>\n",
       "    <tr style=\"text-align: right;\">\n",
       "      <th></th>\n",
       "      <th>Marks</th>\n",
       "      <th>Grades</th>\n",
       "    </tr>\n",
       "  </thead>\n",
       "  <tbody>\n",
       "    <tr>\n",
       "      <th>A</th>\n",
       "      <td>85</td>\n",
       "      <td>4.00</td>\n",
       "    </tr>\n",
       "    <tr>\n",
       "      <th>A-</th>\n",
       "      <td>80</td>\n",
       "      <td>3.75</td>\n",
       "    </tr>\n",
       "    <tr>\n",
       "      <th>B+</th>\n",
       "      <td>75</td>\n",
       "      <td>3.50</td>\n",
       "    </tr>\n",
       "  </tbody>\n",
       "</table>\n",
       "</div>"
      ],
      "text/plain": [
       "    Marks  Grades\n",
       "A      85    4.00\n",
       "A-     80    3.75\n",
       "B+     75    3.50"
      ]
     },
     "execution_count": 38,
     "metadata": {},
     "output_type": "execute_result"
    }
   ],
   "source": [
    "G"
   ]
  },
  {
   "cell_type": "code",
   "execution_count": 39,
   "metadata": {},
   "outputs": [],
   "source": [
    "Z=pd.DataFrame([{'a':1,'b':4},{'b':-3,'c':9}])"
   ]
  },
  {
   "cell_type": "code",
   "execution_count": 40,
   "metadata": {},
   "outputs": [
    {
     "data": {
      "text/html": [
       "<div>\n",
       "<style scoped>\n",
       "    .dataframe tbody tr th:only-of-type {\n",
       "        vertical-align: middle;\n",
       "    }\n",
       "\n",
       "    .dataframe tbody tr th {\n",
       "        vertical-align: top;\n",
       "    }\n",
       "\n",
       "    .dataframe thead th {\n",
       "        text-align: right;\n",
       "    }\n",
       "</style>\n",
       "<table border=\"1\" class=\"dataframe\">\n",
       "  <thead>\n",
       "    <tr style=\"text-align: right;\">\n",
       "      <th></th>\n",
       "      <th>a</th>\n",
       "      <th>b</th>\n",
       "      <th>c</th>\n",
       "    </tr>\n",
       "  </thead>\n",
       "  <tbody>\n",
       "    <tr>\n",
       "      <th>0</th>\n",
       "      <td>1.0</td>\n",
       "      <td>4</td>\n",
       "      <td>NaN</td>\n",
       "    </tr>\n",
       "    <tr>\n",
       "      <th>1</th>\n",
       "      <td>NaN</td>\n",
       "      <td>-3</td>\n",
       "      <td>9.0</td>\n",
       "    </tr>\n",
       "  </tbody>\n",
       "</table>\n",
       "</div>"
      ],
      "text/plain": [
       "     a  b    c\n",
       "0  1.0  4  NaN\n",
       "1  NaN -3  9.0"
      ]
     },
     "execution_count": 40,
     "metadata": {},
     "output_type": "execute_result"
    }
   ],
   "source": [
    "Z"
   ]
  },
  {
   "cell_type": "code",
   "execution_count": 41,
   "metadata": {},
   "outputs": [
    {
     "data": {
      "text/html": [
       "<div>\n",
       "<style scoped>\n",
       "    .dataframe tbody tr th:only-of-type {\n",
       "        vertical-align: middle;\n",
       "    }\n",
       "\n",
       "    .dataframe tbody tr th {\n",
       "        vertical-align: top;\n",
       "    }\n",
       "\n",
       "    .dataframe thead th {\n",
       "        text-align: right;\n",
       "    }\n",
       "</style>\n",
       "<table border=\"1\" class=\"dataframe\">\n",
       "  <thead>\n",
       "    <tr style=\"text-align: right;\">\n",
       "      <th></th>\n",
       "      <th>a</th>\n",
       "      <th>b</th>\n",
       "      <th>c</th>\n",
       "    </tr>\n",
       "  </thead>\n",
       "  <tbody>\n",
       "    <tr>\n",
       "      <th>0</th>\n",
       "      <td>1.0</td>\n",
       "      <td>4</td>\n",
       "      <td>0.0</td>\n",
       "    </tr>\n",
       "    <tr>\n",
       "      <th>1</th>\n",
       "      <td>0.0</td>\n",
       "      <td>-3</td>\n",
       "      <td>9.0</td>\n",
       "    </tr>\n",
       "  </tbody>\n",
       "</table>\n",
       "</div>"
      ],
      "text/plain": [
       "     a  b    c\n",
       "0  1.0  4  0.0\n",
       "1  0.0 -3  9.0"
      ]
     },
     "execution_count": 41,
     "metadata": {},
     "output_type": "execute_result"
    }
   ],
   "source": [
    "# Z.fillna(\"Null\")\n",
    "Z.fillna(0)"
   ]
  },
  {
   "cell_type": "code",
   "execution_count": 42,
   "metadata": {},
   "outputs": [
    {
     "data": {
      "text/html": [
       "<div>\n",
       "<style scoped>\n",
       "    .dataframe tbody tr th:only-of-type {\n",
       "        vertical-align: middle;\n",
       "    }\n",
       "\n",
       "    .dataframe tbody tr th {\n",
       "        vertical-align: top;\n",
       "    }\n",
       "\n",
       "    .dataframe thead th {\n",
       "        text-align: right;\n",
       "    }\n",
       "</style>\n",
       "<table border=\"1\" class=\"dataframe\">\n",
       "  <thead>\n",
       "    <tr style=\"text-align: right;\">\n",
       "      <th></th>\n",
       "      <th>Marks</th>\n",
       "      <th>Grades</th>\n",
       "    </tr>\n",
       "  </thead>\n",
       "  <tbody>\n",
       "    <tr>\n",
       "      <th>B+</th>\n",
       "      <td>75</td>\n",
       "      <td>3.50</td>\n",
       "    </tr>\n",
       "    <tr>\n",
       "      <th>A-</th>\n",
       "      <td>80</td>\n",
       "      <td>3.75</td>\n",
       "    </tr>\n",
       "    <tr>\n",
       "      <th>A</th>\n",
       "      <td>85</td>\n",
       "      <td>4.00</td>\n",
       "    </tr>\n",
       "  </tbody>\n",
       "</table>\n",
       "</div>"
      ],
      "text/plain": [
       "    Marks  Grades\n",
       "B+     75    3.50\n",
       "A-     80    3.75\n",
       "A      85    4.00"
      ]
     },
     "execution_count": 42,
     "metadata": {},
     "output_type": "execute_result"
    }
   ],
   "source": [
    "G.iloc[::-1,:]"
   ]
  },
  {
   "cell_type": "code",
   "execution_count": null,
   "metadata": {},
   "outputs": [],
   "source": []
  }
 ],
 "metadata": {
  "kernelspec": {
   "display_name": "Python 3",
   "language": "python",
   "name": "python3"
  },
  "language_info": {
   "codemirror_mode": {
    "name": "ipython",
    "version": 3
   },
   "file_extension": ".py",
   "mimetype": "text/x-python",
   "name": "python",
   "nbconvert_exporter": "python",
   "pygments_lexer": "ipython3",
   "version": "3.11.4"
  },
  "orig_nbformat": 4
 },
 "nbformat": 4,
 "nbformat_minor": 2
}
